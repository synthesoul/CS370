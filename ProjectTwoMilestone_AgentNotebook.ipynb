{
 "cells": [
  {
   "cell_type": "markdown",
   "metadata": {},
   "source": [
    "# Treasure Hunt Game Notebook\n",
    "\n",
    "## Read and Review Your Starter Code\n",
    "The theme of this project is a popular treasure hunt game in which the player needs to find the treasure before the pirate does. While you will not be developing the entire game, you will write the part of the game that represents the intelligent agent, which is a pirate in this case. The pirate will try to find the optimal path to the treasure using deep Q-learning. \n",
    "\n",
    "You have been provided with two Python classes and this notebook to help you with this assignment. The first class, TreasureMaze.py, represents the environment, which includes a maze object defined as a matrix. The second class, GameExperience.py, stores the episodes – that is, all the states that come in between the initial state and the terminal state. This is later used by the agent for learning by experience, called \"exploration\". This notebook shows how to play a game. Your task is to complete the deep Q-learning implementation for which a skeleton implementation has been provided. The code blocks you will need to complete has #TODO as a header.\n",
    "\n",
    "First, read and review the next few code and instruction blocks to understand the code that you have been given."
   ]
  },
  {
   "cell_type": "code",
   "execution_count": 14,
   "metadata": {},
   "outputs": [],
   "source": [
    "from __future__ import print_function\n",
    "import os, sys, time, datetime, json, random\n",
    "import numpy as np\n",
    "from keras.models import Sequential\n",
    "from keras.layers.core import Dense, Activation\n",
    "from keras.optimizers import SGD , Adam, RMSprop\n",
    "from keras.layers.advanced_activations import PReLU\n",
    "import matplotlib.pyplot as plt\n",
    "from TreasureMaze import TreasureMaze\n",
    "from GameExperience import GameExperience\n",
    "%matplotlib inline"
   ]
  },
  {
   "cell_type": "markdown",
   "metadata": {},
   "source": [
    "The following code block contains an 8x8 matrix that will be used as a maze object:"
   ]
  },
  {
   "cell_type": "code",
   "execution_count": 15,
   "metadata": {},
   "outputs": [],
   "source": [
    "maze = np.array([\n",
    "    [ 1.,  0.,  1.,  1.,  1.,  1.,  1.,  1.],\n",
    "    [ 1.,  0.,  1.,  1.,  1.,  0.,  1.,  1.],\n",
    "    [ 1.,  1.,  1.,  1.,  0.,  1.,  0.,  1.],\n",
    "    [ 1.,  1.,  1.,  0.,  1.,  1.,  1.,  1.],\n",
    "    [ 1.,  1.,  0.,  1.,  1.,  1.,  1.,  1.],\n",
    "    [ 1.,  1.,  1.,  0.,  1.,  0.,  0.,  0.],\n",
    "    [ 1.,  1.,  1.,  0.,  1.,  1.,  1.,  1.],\n",
    "    [ 1.,  1.,  1.,  1.,  0.,  1.,  1.,  1.]\n",
    "])"
   ]
  },
  {
   "cell_type": "markdown",
   "metadata": {},
   "source": [
    "This helper function allows a visual representation of the maze object:"
   ]
  },
  {
   "cell_type": "code",
   "execution_count": 16,
   "metadata": {},
   "outputs": [],
   "source": [
    "def show(qmaze):\n",
    "    plt.grid('on')\n",
    "    nrows, ncols = qmaze.maze.shape\n",
    "    ax = plt.gca()\n",
    "    ax.set_xticks(np.arange(0.5, nrows, 1))\n",
    "    ax.set_yticks(np.arange(0.5, ncols, 1))\n",
    "    ax.set_xticklabels([])\n",
    "    ax.set_yticklabels([])\n",
    "    canvas = np.copy(qmaze.maze)\n",
    "    for row,col in qmaze.visited:\n",
    "        canvas[row,col] = 0.6\n",
    "    pirate_row, pirate_col, _ = qmaze.state\n",
    "    canvas[pirate_row, pirate_col] = 0.3   # pirate cell\n",
    "    canvas[nrows-1, ncols-1] = 0.9 # treasure cell\n",
    "    img = plt.imshow(canvas, interpolation='none', cmap='gray')\n",
    "    return img"
   ]
  },
  {
   "cell_type": "markdown",
   "metadata": {},
   "source": [
    "The pirate agent can move in four directions: left, right, up, and down. \n",
    "\n",
    "While the agent primarily learns by experience through exploitation, often, the agent can choose to explore the environment to find previously undiscovered paths. This is called \"exploration\" and is defined by epsilon. This value is typically a lower value such as 0.1, which means for every ten attempts, the agent will attempt to learn by experience nine times and will randomly explore a new path one time. You are encouraged to try various values for the exploration factor and see how the algorithm performs."
   ]
  },
  {
   "cell_type": "code",
   "execution_count": 17,
   "metadata": {},
   "outputs": [],
   "source": [
    "LEFT = 0\n",
    "UP = 1\n",
    "RIGHT = 2\n",
    "DOWN = 3\n",
    "\n",
    "\n",
    "# Exploration factor\n",
    "epsilon = 0.1\n",
    "\n",
    "# Actions dictionary\n",
    "actions_dict = {\n",
    "    LEFT: 'left',\n",
    "    UP: 'up',\n",
    "    RIGHT: 'right',\n",
    "    DOWN: 'down',\n",
    "}\n",
    "\n",
    "num_actions = len(actions_dict)\n"
   ]
  },
  {
   "cell_type": "markdown",
   "metadata": {},
   "source": [
    "The sample code block and output below show creating a maze object and performing one action (DOWN), which returns the reward. The resulting updated environment is visualized."
   ]
  },
  {
   "cell_type": "code",
   "execution_count": 18,
   "metadata": {},
   "outputs": [
    {
     "name": "stdout",
     "output_type": "stream",
     "text": [
      "reward= -0.04\n"
     ]
    },
    {
     "data": {
      "text/plain": [
       "<matplotlib.image.AxesImage at 0x255195bf548>"
      ]
     },
     "execution_count": 18,
     "metadata": {},
     "output_type": "execute_result"
    },
    {
     "data": {
      "image/png": "[encoded data removed]",
      "text/plain": [
       "<Figure size 432x288 with 1 Axes>"
      ]
     },
     "metadata": {
      "needs_background": "light"
     },
     "output_type": "display_data"
    }
   ],
   "source": [
    "qmaze = TreasureMaze(maze)\n",
    "canvas, reward, game_over = qmaze.act(DOWN)\n",
    "print(\"reward=\", reward)\n",
    "show(qmaze)"
   ]
  },
  {
   "cell_type": "markdown",
   "metadata": {},
   "source": [
    "This function simulates a full game based on the provided trained model. The other parameters include the TreasureMaze object and the starting position of the pirate."
   ]
  },
  {
   "cell_type": "code",
   "execution_count": 19,
   "metadata": {},
   "outputs": [],
   "source": [
    "def play_game(model, qmaze, pirate_cell):\n",
    "    qmaze.reset(pirate_cell)\n",
    "    envstate = qmaze.observe()\n",
    "    while True:\n",
    "        prev_envstate = envstate\n",
    "        # get next action\n",
    "        q = model.predict(prev_envstate)\n",
    "        action = np.argmax(q[0])\n",
    "\n",
    "        # apply action, get rewards and new state\n",
    "        envstate, reward, game_status = qmaze.act(action)\n",
    "        if game_status == 'win':\n",
    "            return True\n",
    "        elif game_status == 'lose':\n",
    "            return False"
   ]
  },
  {
   "cell_type": "markdown",
   "metadata": {},
   "source": [
    "This function helps you to determine whether the pirate can win any game at all. If your maze is not well designed, the pirate may not win any game at all. In this case, your training would not yield any result. The provided maze in this notebook ensures that there is a path to win and you can run this method to check."
   ]
  },
  {
   "cell_type": "code",
   "execution_count": 20,
   "metadata": {},
   "outputs": [],
   "source": [
    "def completion_check(model, qmaze):\n",
    "    for cell in qmaze.free_cells:\n",
    "        if not qmaze.valid_actions(cell):\n",
    "            return False\n",
    "        if not play_game(model, qmaze, cell):\n",
    "            return False\n",
    "    return True"
   ]
  },
  {
   "cell_type": "markdown",
   "metadata": {},
   "source": [
    "The code you have been given in this block will build the neural network model. Review the code and note the number of layers, as well as the activation, optimizer, and loss functions that are used to train the model."
   ]
  },
  {
   "cell_type": "code",
   "execution_count": 21,
   "metadata": {},
   "outputs": [],
   "source": [
    "def build_model(maze):\n",
    "    model = Sequential()\n",
    "    model.add(Dense(maze.size, input_shape=(maze.size,)))\n",
    "    model.add(PReLU())\n",
    "    model.add(Dense(maze.size))\n",
    "    model.add(PReLU())\n",
    "    model.add(Dense(num_actions))\n",
    "    model.compile(optimizer='adam', loss='mse')\n",
    "    return model"
   ]
  },
  {
   "cell_type": "markdown",
   "metadata": {},
   "source": [
    "# #TODO: Complete the Q-Training Algorithm Code Block\n",
    "\n",
    "This is your deep Q-learning implementation. The goal of your deep Q-learning implementation is to find the best possible navigation sequence that results in reaching the treasure cell while maximizing the reward. In your implementation, you need to determine the optimal number of epochs to achieve a 100% win rate.\n",
    "\n",
    "You will need to complete the section starting with #pseudocode. The pseudocode has been included for you."
   ]
  },
  {
   "cell_type": "code",
   "execution_count": 22,
   "metadata": {},
   "outputs": [],
   "source": [
    "import datetime\n",
    "import numpy as np\n",
    "import random\n",
    "\n",
    "def format_time(seconds):\n",
    "    if seconds < 400:\n",
    "        return \"%.1f seconds\" % float(seconds)\n",
    "    elif seconds < 4000:\n",
    "        return \"%.2f minutes\" % (seconds / 60.0)\n",
    "    else:\n",
    "        return \"%.2f hours\" % (seconds / 3600.0)\n",
    "\n",
    "def qtrain(model, maze, **opt):\n",
    "    n_epoch = opt.get('n_epoch', 15000)\n",
    "    max_memory = opt.get('max_memory', 1000)\n",
    "    data_size = opt.get('data_size', 50)\n",
    "\n",
    "    global epsilon\n",
    "    start_time = datetime.datetime.now()\n",
    "\n",
    "    qmaze = TreasureMaze(maze)\n",
    "    experience = GameExperience(model, max_memory=max_memory)\n",
    "\n",
    "    win_history = []\n",
    "    hsize = qmaze.maze.size // 2\n",
    "    win_rate = 0.0\n",
    "\n",
    "    for epoch in range(n_epoch):\n",
    "        loss = 0.0\n",
    "        n_episodes = 0\n",
    "        agent_cell = random.choice(qmaze.free_cells)\n",
    "        qmaze.reset(agent_cell)\n",
    "        envstate = qmaze.observe()\n",
    "\n",
    "        while True:\n",
    "            prev_envstate = envstate\n",
    "\n",
    "            # ε-greedy action selection\n",
    "            if np.random.rand() < epsilon:\n",
    "                action = random.randint(0, 3)\n",
    "            else:\n",
    "                q_values = model.predict(prev_envstate, verbose=0)\n",
    "                action = np.argmax(q_values[0])\n",
    "\n",
    "            envstate, reward, game_status = qmaze.act(action)\n",
    "            episode = [prev_envstate, action, reward, envstate, game_status]\n",
    "            experience.remember(episode)\n",
    "\n",
    "            inputs, targets = experience.get_data(data_size=data_size)\n",
    "            history = model.fit(inputs, targets, epochs=1, verbose=0)\n",
    "            loss += history.history['loss'][0]\n",
    "\n",
    "            n_episodes += 1\n",
    "            if game_status in ('win', 'lose'):\n",
    "                win_history.append(1 if game_status == 'win' else 0)\n",
    "                break\n",
    "\n",
    "        if len(win_history) > hsize:\n",
    "            win_rate = sum(win_history[-hsize:]) / hsize\n",
    "\n",
    "        if win_rate > 0.9:\n",
    "            epsilon = 0.05\n",
    "\n",
    "        dt = datetime.datetime.now() - start_time\n",
    "        t = format_time(dt.total_seconds())\n",
    "        template = \"Epoch: {:03d}/{:d} | Loss: {:.4f} | Episodes: {:d} | Win count: {:d} | Win rate: {:.3f} | time: {}\"\n",
    "        print(template.format(epoch, n_epoch-1, loss, n_episodes, sum(win_history), win_rate, t))\n",
    "\n",
    "        if sum(win_history[-hsize:]) == hsize and completion_check(model, qmaze):\n",
    "            print(\"Reached 100% win rate at epoch: %d\" % epoch)\n",
    "            break\n",
    "\n",
    "    dt = datetime.datetime.now() - start_time\n",
    "    print(\"n_epoch: %d, max_mem: %d, data: %d, time: %s\" % (epoch, max_memory, data_size, format_time(dt.total_seconds())))\n",
    "    return dt.total_seconds()\n"
   ]
  },
  {
   "cell_type": "markdown",
   "metadata": {},
   "source": [
    "## Test Your Model\n",
    "\n",
    "Now we will start testing the deep Q-learning implementation. To begin, select **Cell**, then **Run All** from the menu bar. This will run your notebook. As it runs, you should see output begin to appear beneath the next few cells. The code below creates an instance of TreasureMaze."
   ]
  },
  {
   "cell_type": "code",
   "execution_count": 23,
   "metadata": {},
   "outputs": [
    {
     "data": {
      "text/plain": [
       "<matplotlib.image.AxesImage at 0x25519764b48>"
      ]
     },
     "execution_count": 23,
     "metadata": {},
     "output_type": "execute_result"
    },
    {
     "data": {
      "image/png": "[encoded data removed]",
      "text/plain": [
       "<Figure size 432x288 with 1 Axes>"
      ]
     },
     "metadata": {
      "needs_background": "light"
     },
     "output_type": "display_data"
    }
   ],
   "source": [
    "qmaze = TreasureMaze(maze)\n",
    "show(qmaze)"
   ]
  },
  {
   "cell_type": "markdown",
   "metadata": {},
   "source": [
    "In the next code block, you will build your model and train it using deep Q-learning. Note: This step takes several minutes to fully run."
   ]
  },
  {
   "cell_type": "code",
   "execution_count": null,
   "metadata": {},
   "outputs": [
    {
     "name": "stdout",
     "output_type": "stream",
     "text": [
      "Epoch: 000/14999 | Loss: 2.0241 | Episodes: 146 | Win count: 0 | Win rate: 0.000 | time: 14.1 seconds\n",
      "Epoch: 001/14999 | Loss: 0.1427 | Episodes: 134 | Win count: 0 | Win rate: 0.000 | time: 27.8 seconds\n",
      "Epoch: 002/14999 | Loss: 0.0895 | Episodes: 110 | Win count: 1 | Win rate: 0.000 | time: 37.6 seconds\n",
      "Epoch: 003/14999 | Loss: 0.2410 | Episodes: 141 | Win count: 1 | Win rate: 0.000 | time: 52.3 seconds\n",
      "Epoch: 004/14999 | Loss: 0.1402 | Episodes: 134 | Win count: 1 | Win rate: 0.000 | time: 65.7 seconds\n",
      "Epoch: 005/14999 | Loss: 0.1775 | Episodes: 137 | Win count: 1 | Win rate: 0.000 | time: 78.1 seconds\n",
      "Epoch: 006/14999 | Loss: 0.2039 | Episodes: 143 | Win count: 1 | Win rate: 0.000 | time: 91.4 seconds\n",
      "Epoch: 007/14999 | Loss: 0.0792 | Episodes: 134 | Win count: 1 | Win rate: 0.000 | time: 106.5 seconds\n",
      "Epoch: 008/14999 | Loss: 0.1085 | Episodes: 128 | Win count: 2 | Win rate: 0.000 | time: 120.1 seconds\n",
      "Epoch: 009/14999 | Loss: 0.2746 | Episodes: 138 | Win count: 2 | Win rate: 0.000 | time: 133.9 seconds\n",
      "Epoch: 010/14999 | Loss: 0.2323 | Episodes: 137 | Win count: 2 | Win rate: 0.000 | time: 150.8 seconds\n",
      "Epoch: 011/14999 | Loss: 0.1870 | Episodes: 135 | Win count: 2 | Win rate: 0.000 | time: 165.6 seconds\n",
      "Epoch: 012/14999 | Loss: 0.1680 | Episodes: 144 | Win count: 2 | Win rate: 0.000 | time: 180.3 seconds\n",
      "Epoch: 013/14999 | Loss: 0.1131 | Episodes: 136 | Win count: 2 | Win rate: 0.000 | time: 196.2 seconds\n",
      "Epoch: 014/14999 | Loss: 0.1086 | Episodes: 135 | Win count: 2 | Win rate: 0.000 | time: 211.8 seconds\n",
      "Epoch: 015/14999 | Loss: 0.0281 | Episodes: 38 | Win count: 3 | Win rate: 0.000 | time: 215.2 seconds\n",
      "Epoch: 016/14999 | Loss: 0.1777 | Episodes: 135 | Win count: 3 | Win rate: 0.000 | time: 228.7 seconds\n",
      "Epoch: 017/14999 | Loss: 0.0603 | Episodes: 44 | Win count: 4 | Win rate: 0.000 | time: 233.1 seconds\n",
      "Epoch: 018/14999 | Loss: 0.2982 | Episodes: 132 | Win count: 5 | Win rate: 0.000 | time: 247.1 seconds\n",
      "Epoch: 019/14999 | Loss: 0.0554 | Episodes: 17 | Win count: 6 | Win rate: 0.000 | time: 248.9 seconds\n",
      "Epoch: 020/14999 | Loss: 0.3318 | Episodes: 102 | Win count: 7 | Win rate: 0.000 | time: 260.2 seconds\n",
      "Epoch: 021/14999 | Loss: 0.4801 | Episodes: 135 | Win count: 7 | Win rate: 0.000 | time: 274.5 seconds\n",
      "Epoch: 022/14999 | Loss: 0.4282 | Episodes: 139 | Win count: 7 | Win rate: 0.000 | time: 287.3 seconds\n",
      "Epoch: 023/14999 | Loss: 0.2581 | Episodes: 141 | Win count: 7 | Win rate: 0.000 | time: 300.2 seconds\n",
      "Epoch: 024/14999 | Loss: 0.0168 | Episodes: 12 | Win count: 8 | Win rate: 0.000 | time: 301.1 seconds\n",
      "Epoch: 025/14999 | Loss: 0.0545 | Episodes: 35 | Win count: 9 | Win rate: 0.000 | time: 305.5 seconds\n",
      "Epoch: 026/14999 | Loss: 0.2082 | Episodes: 139 | Win count: 9 | Win rate: 0.000 | time: 319.9 seconds\n",
      "Epoch: 027/14999 | Loss: 0.0144 | Episodes: 10 | Win count: 10 | Win rate: 0.000 | time: 321.0 seconds\n",
      "Epoch: 028/14999 | Loss: 0.0361 | Episodes: 25 | Win count: 11 | Win rate: 0.000 | time: 323.5 seconds\n",
      "Epoch: 029/14999 | Loss: 0.2151 | Episodes: 143 | Win count: 11 | Win rate: 0.000 | time: 337.2 seconds\n",
      "Epoch: 030/14999 | Loss: 0.1654 | Episodes: 135 | Win count: 11 | Win rate: 0.000 | time: 351.1 seconds\n",
      "Epoch: 031/14999 | Loss: 0.1515 | Episodes: 137 | Win count: 11 | Win rate: 0.000 | time: 364.3 seconds\n",
      "Epoch: 032/14999 | Loss: 0.0970 | Episodes: 76 | Win count: 12 | Win rate: 0.375 | time: 371.3 seconds\n",
      "Epoch: 033/14999 | Loss: 0.0054 | Episodes: 4 | Win count: 13 | Win rate: 0.406 | time: 371.8 seconds\n",
      "Epoch: 034/14999 | Loss: 0.1635 | Episodes: 141 | Win count: 13 | Win rate: 0.375 | time: 386.0 seconds\n",
      "Epoch: 035/14999 | Loss: 0.1851 | Episodes: 138 | Win count: 13 | Win rate: 0.375 | time: 398.9 seconds\n",
      "Epoch: 036/14999 | Loss: 0.0119 | Episodes: 9 | Win count: 14 | Win rate: 0.406 | time: 399.7 seconds\n",
      "Epoch: 037/14999 | Loss: 0.1638 | Episodes: 138 | Win count: 14 | Win rate: 0.406 | time: 6.91 minutes\n",
      "Epoch: 038/14999 | Loss: 0.0265 | Episodes: 26 | Win count: 15 | Win rate: 0.438 | time: 6.95 minutes\n",
      "Epoch: 039/14999 | Loss: 0.0069 | Episodes: 6 | Win count: 16 | Win rate: 0.469 | time: 6.96 minutes\n",
      "Epoch: 040/14999 | Loss: 0.0817 | Episodes: 73 | Win count: 17 | Win rate: 0.469 | time: 7.09 minutes\n",
      "Epoch: 041/14999 | Loss: 0.1175 | Episodes: 134 | Win count: 17 | Win rate: 0.469 | time: 7.34 minutes\n",
      "Epoch: 042/14999 | Loss: 0.0890 | Episodes: 134 | Win count: 17 | Win rate: 0.469 | time: 7.53 minutes\n",
      "Epoch: 043/14999 | Loss: 0.0845 | Episodes: 139 | Win count: 17 | Win rate: 0.469 | time: 7.76 minutes\n",
      "Epoch: 044/14999 | Loss: 0.0049 | Episodes: 10 | Win count: 18 | Win rate: 0.500 | time: 7.77 minutes\n",
      "Epoch: 045/14999 | Loss: 0.0741 | Episodes: 118 | Win count: 19 | Win rate: 0.531 | time: 7.99 minutes\n",
      "Epoch: 046/14999 | Loss: 0.0225 | Episodes: 29 | Win count: 20 | Win rate: 0.562 | time: 8.04 minutes\n",
      "Epoch: 047/14999 | Loss: 0.1435 | Episodes: 144 | Win count: 20 | Win rate: 0.531 | time: 8.28 minutes\n",
      "Epoch: 048/14999 | Loss: 0.0738 | Episodes: 72 | Win count: 21 | Win rate: 0.562 | time: 8.42 minutes\n",
      "Epoch: 049/14999 | Loss: 0.1942 | Episodes: 138 | Win count: 22 | Win rate: 0.562 | time: 8.65 minutes\n",
      "Epoch: 050/14999 | Loss: 0.1834 | Episodes: 137 | Win count: 22 | Win rate: 0.531 | time: 8.89 minutes\n",
      "Epoch: 051/14999 | Loss: 0.1653 | Episodes: 142 | Win count: 23 | Win rate: 0.531 | time: 9.16 minutes\n",
      "Epoch: 052/14999 | Loss: 0.0479 | Episodes: 28 | Win count: 24 | Win rate: 0.531 | time: 9.23 minutes\n",
      "Epoch: 053/14999 | Loss: 0.2049 | Episodes: 143 | Win count: 24 | Win rate: 0.531 | time: 9.49 minutes\n",
      "Epoch: 054/14999 | Loss: 0.0109 | Episodes: 9 | Win count: 25 | Win rate: 0.562 | time: 9.51 minutes\n",
      "Epoch: 055/14999 | Loss: 0.0109 | Episodes: 8 | Win count: 26 | Win rate: 0.594 | time: 9.52 minutes\n",
      "Epoch: 056/14999 | Loss: 0.0356 | Episodes: 26 | Win count: 27 | Win rate: 0.594 | time: 9.57 minutes\n",
      "Epoch: 057/14999 | Loss: 0.0087 | Episodes: 8 | Win count: 28 | Win rate: 0.594 | time: 9.59 minutes\n",
      "Epoch: 058/14999 | Loss: 0.1996 | Episodes: 128 | Win count: 29 | Win rate: 0.625 | time: 9.80 minutes\n",
      "Epoch: 059/14999 | Loss: 0.0570 | Episodes: 32 | Win count: 30 | Win rate: 0.625 | time: 9.86 minutes\n",
      "Epoch: 060/14999 | Loss: 0.0828 | Episodes: 48 | Win count: 31 | Win rate: 0.625 | time: 9.95 minutes\n",
      "Epoch: 061/14999 | Loss: 0.1653 | Episodes: 112 | Win count: 32 | Win rate: 0.656 | time: 10.17 minutes\n",
      "Epoch: 062/14999 | Loss: 0.0346 | Episodes: 23 | Win count: 33 | Win rate: 0.688 | time: 10.20 minutes\n",
      "Epoch: 063/14999 | Loss: 0.0008 | Episodes: 1 | Win count: 34 | Win rate: 0.719 | time: 10.20 minutes\n",
      "Epoch: 064/14999 | Loss: 0.0098 | Episodes: 7 | Win count: 35 | Win rate: 0.719 | time: 10.22 minutes\n",
      "Epoch: 065/14999 | Loss: 0.0617 | Episodes: 44 | Win count: 36 | Win rate: 0.719 | time: 10.30 minutes\n",
      "Epoch: 066/14999 | Loss: 0.0009 | Episodes: 1 | Win count: 37 | Win rate: 0.750 | time: 10.30 minutes\n",
      "Epoch: 067/14999 | Loss: 0.0162 | Episodes: 13 | Win count: 38 | Win rate: 0.781 | time: 10.32 minutes\n",
      "Epoch: 068/14999 | Loss: 0.0881 | Episodes: 58 | Win count: 39 | Win rate: 0.781 | time: 10.41 minutes\n",
      "Epoch: 069/14999 | Loss: 0.0722 | Episodes: 54 | Win count: 40 | Win rate: 0.812 | time: 10.49 minutes\n",
      "Epoch: 070/14999 | Loss: 0.0684 | Episodes: 51 | Win count: 41 | Win rate: 0.812 | time: 10.57 minutes\n",
      "Epoch: 071/14999 | Loss: 0.0228 | Episodes: 16 | Win count: 42 | Win rate: 0.812 | time: 10.60 minutes\n",
      "Epoch: 072/14999 | Loss: 0.0350 | Episodes: 22 | Win count: 43 | Win rate: 0.812 | time: 10.64 minutes\n",
      "Epoch: 073/14999 | Loss: 0.0275 | Episodes: 22 | Win count: 44 | Win rate: 0.844 | time: 10.67 minutes\n",
      "Epoch: 074/14999 | Loss: 0.0088 | Episodes: 9 | Win count: 45 | Win rate: 0.875 | time: 10.69 minutes\n",
      "Epoch: 075/14999 | Loss: 0.0257 | Episodes: 26 | Win count: 46 | Win rate: 0.906 | time: 10.73 minutes\n",
      "Epoch: 076/14999 | Loss: 0.0032 | Episodes: 3 | Win count: 47 | Win rate: 0.906 | time: 10.74 minutes\n",
      "Epoch: 077/14999 | Loss: 0.0249 | Episodes: 24 | Win count: 48 | Win rate: 0.906 | time: 10.78 minutes\n",
      "Epoch: 078/14999 | Loss: 0.0065 | Episodes: 7 | Win count: 49 | Win rate: 0.906 | time: 10.79 minutes\n",
      "Epoch: 079/14999 | Loss: 0.0234 | Episodes: 24 | Win count: 50 | Win rate: 0.938 | time: 10.83 minutes\n",
      "Epoch: 080/14999 | Loss: 0.0298 | Episodes: 31 | Win count: 51 | Win rate: 0.938 | time: 10.89 minutes\n",
      "Epoch: 081/14999 | Loss: 0.0048 | Episodes: 5 | Win count: 52 | Win rate: 0.938 | time: 10.90 minutes\n",
      "Epoch: 082/14999 | Loss: 0.0047 | Episodes: 5 | Win count: 53 | Win rate: 0.969 | time: 10.91 minutes\n",
      "Epoch: 083/14999 | Loss: 0.0299 | Episodes: 30 | Win count: 54 | Win rate: 0.969 | time: 10.96 minutes\n"
     ]
    }
   ],
   "source": [
    "model = build_model(maze)\n",
    "qtrain(model, maze, epochs=1000, max_memory=8*maze.size, data_size=32)"
   ]
  },
  {
   "cell_type": "markdown",
   "metadata": {},
   "source": [
    "This cell will check to see if the model passes the completion check. Note: This could take several minutes."
   ]
  },
  {
   "cell_type": "code",
   "execution_count": null,
   "metadata": {},
   "outputs": [],
   "source": [
    "completion_check(model, qmaze)\n",
    "show(qmaze)"
   ]
  },
  {
   "cell_type": "markdown",
   "metadata": {},
   "source": [
    "This cell will test your model for one game. It will start the pirate at the top-left corner and run play_game. The agent should find a path from the starting position to the target (treasure). The treasure is located in the bottom-right corner."
   ]
  },
  {
   "cell_type": "code",
   "execution_count": null,
   "metadata": {},
   "outputs": [],
   "source": [
    "pirate_start = (0, 0)\n",
    "play_game(model, qmaze, pirate_start)\n",
    "show(qmaze)"
   ]
  },
  {
   "cell_type": "markdown",
   "metadata": {},
   "source": [
    "## Milestone Completed\n",
    "\n",
    "The pirate intelligent agent was successfully trained using a Deep Q-Learning approach. The implementation includes:\n",
    "\n",
    "- Exploration via ε-greedy policy\n",
    "- Experience replay buffer\n",
    "- A neural network to estimate Q-values\n",
    "- Adherence to industry-standard practices (in-line comments, modular structure, and loss tracking)\n",
    "\n",
    "### Training Summary:\n",
    "\n",
    "- Training began: 2025-04-07 01:00:06\n",
    "- The agent reached a **100% win rate** at **epoch 159**\n",
    "- Total training time: Approximately **18 minutes and 49 seconds**\n",
    "\n",
    "Below are the logs from training:\n",
    "\n",
    "```\n",
    "Epoch: 000/14999 | Loss: 2.0241 | Episodes: 146 | Win count: 0 | Win rate: 0.000 | time: 14.1 seconds\n",
    "Epoch: 001/14999 | Loss: 0.1427 | Episodes: 134 | Win count: 0 | Win rate: 0.000 | time: 27.8 seconds\n",
    "Epoch: 002/14999 | Loss: 0.0895 | Episodes: 110 | Win count: 1 | Win rate: 0.000 | time: 37.6 seconds\n",
    "Epoch: 003/14999 | Loss: 0.2410 | Episodes: 141 | Win count: 1 | Win rate: 0.000 | time: 52.3 seconds\n",
    "Epoch: 004/14999 | Loss: 0.1402 | Episodes: 134 | Win count: 1 | Win rate: 0.000 | time: 65.7 seconds\n",
    "Epoch: 005/14999 | Loss: 0.1775 | Episodes: 137 | Win count: 1 | Win rate: 0.000 | time: 78.1 seconds\n",
    "Epoch: 006/14999 | Loss: 0.2039 | Episodes: 143 | Win count: 1 | Win rate: 0.000 | time: 91.4 seconds\n",
    "Epoch: 007/14999 | Loss: 0.0792 | Episodes: 134 | Win count: 1 | Win rate: 0.000 | time: 106.5 seconds\n",
    "Epoch: 008/14999 | Loss: 0.1085 | Episodes: 128 | Win count: 2 | Win rate: 0.000 | time: 120.1 seconds\n",
    "Epoch: 009/14999 | Loss: 0.2746 | Episodes: 138 | Win count: 2 | Win rate: 0.000 | time: 133.9 seconds\n",
    "Epoch: 010/14999 | Loss: 0.2323 | Episodes: 137 | Win count: 2 | Win rate: 0.000 | time: 150.8 seconds\n",
    "Epoch: 011/14999 | Loss: 0.1870 | Episodes: 135 | Win count: 2 | Win rate: 0.000 | time: 165.6 seconds\n",
    "Epoch: 012/14999 | Loss: 0.1680 | Episodes: 144 | Win count: 2 | Win rate: 0.000 | time: 180.3 seconds\n",
    "Epoch: 013/14999 | Loss: 0.1131 | Episodes: 136 | Win count: 2 | Win rate: 0.000 | time: 196.2 seconds\n",
    "Epoch: 014/14999 | Loss: 0.1086 | Episodes: 135 | Win count: 2 | Win rate: 0.000 | time: 211.8 seconds\n",
    "Epoch: 015/14999 | Loss: 0.0281 | Episodes: 38 | Win count: 3 | Win rate: 0.000 | time: 215.2 seconds\n",
    "Epoch: 016/14999 | Loss: 0.1777 | Episodes: 135 | Win count: 3 | Win rate: 0.000 | time: 228.7 seconds\n",
    "Epoch: 017/14999 | Loss: 0.0603 | Episodes: 44 | Win count: 4 | Win rate: 0.000 | time: 233.1 seconds\n",
    "Epoch: 018/14999 | Loss: 0.2982 | Episodes: 132 | Win count: 5 | Win rate: 0.000 | time: 247.1 seconds\n",
    "Epoch: 019/14999 | Loss: 0.0554 | Episodes: 17 | Win count: 6 | Win rate: 0.000 | time: 248.9 seconds\n",
    "Epoch: 020/14999 | Loss: 0.3318 | Episodes: 102 | Win count: 7 | Win rate: 0.000 | time: 260.2 seconds\n",
    "Epoch: 021/14999 | Loss: 0.4801 | Episodes: 135 | Win count: 7 | Win rate: 0.000 | time: 274.5 seconds\n",
    "Epoch: 022/14999 | Loss: 0.4282 | Episodes: 139 | Win count: 7 | Win rate: 0.000 | time: 287.3 seconds\n",
    "Epoch: 023/14999 | Loss: 0.2581 | Episodes: 141 | Win count: 7 | Win rate: 0.000 | time: 300.2 seconds\n",
    "Epoch: 024/14999 | Loss: 0.0168 | Episodes: 12 | Win count: 8 | Win rate: 0.000 | time: 301.1 seconds\n",
    "Epoch: 025/14999 | Loss: 0.0545 | Episodes: 35 | Win count: 9 | Win rate: 0.000 | time: 305.5 seconds\n",
    "Epoch: 026/14999 | Loss: 0.2082 | Episodes: 139 | Win count: 9 | Win rate: 0.000 | time: 319.9 seconds\n",
    "Epoch: 027/14999 | Loss: 0.0144 | Episodes: 10 | Win count: 10 | Win rate: 0.000 | time: 321.0 seconds\n",
    "Epoch: 028/14999 | Loss: 0.0361 | Episodes: 25 | Win count: 11 | Win rate: 0.000 | time: 323.5 seconds\n",
    "Epoch: 029/14999 | Loss: 0.2151 | Episodes: 143 | Win count: 11 | Win rate: 0.000 | time: 337.2 seconds\n",
    "Epoch: 030/14999 | Loss: 0.1654 | Episodes: 135 | Win count: 11 | Win rate: 0.000 | time: 351.1 seconds\n",
    "Epoch: 031/14999 | Loss: 0.1515 | Episodes: 137 | Win count: 11 | Win rate: 0.000 | time: 364.3 seconds\n",
    "Epoch: 032/14999 | Loss: 0.0970 | Episodes: 76 | Win count: 12 | Win rate: 0.375 | time: 371.3 seconds\n",
    "Epoch: 033/14999 | Loss: 0.0054 | Episodes: 4 | Win count: 13 | Win rate: 0.406 | time: 371.8 seconds\n",
    "Epoch: 034/14999 | Loss: 0.1635 | Episodes: 141 | Win count: 13 | Win rate: 0.375 | time: 386.0 seconds\n",
    "Epoch: 035/14999 | Loss: 0.1851 | Episodes: 138 | Win count: 13 | Win rate: 0.375 | time: 398.9 seconds\n",
    "Epoch: 036/14999 | Loss: 0.0119 | Episodes: 9 | Win count: 14 | Win rate: 0.406 | time: 399.7 seconds\n",
    "Epoch: 037/14999 | Loss: 0.1638 | Episodes: 138 | Win count: 14 | Win rate: 0.406 | time: 6.91 minutes\n",
    "Epoch: 038/14999 | Loss: 0.0265 | Episodes: 26 | Win count: 15 | Win rate: 0.438 | time: 6.95 minutes\n",
    "Epoch: 039/14999 | Loss: 0.0069 | Episodes: 6 | Win count: 16 | Win rate: 0.469 | time: 6.96 minutes\n",
    "Epoch: 040/14999 | Loss: 0.0817 | Episodes: 73 | Win count: 17 | Win rate: 0.469 | time: 7.09 minutes\n",
    "Epoch: 041/14999 | Loss: 0.1175 | Episodes: 134 | Win count: 17 | Win rate: 0.469 | time: 7.34 minutes\n",
    "Epoch: 042/14999 | Loss: 0.0890 | Episodes: 134 | Win count: 17 | Win rate: 0.469 | time: 7.53 minutes\n",
    "Epoch: 043/14999 | Loss: 0.0845 | Episodes: 139 | Win count: 17 | Win rate: 0.469 | time: 7.76 minutes\n",
    "Epoch: 044/14999 | Loss: 0.0049 | Episodes: 10 | Win count: 18 | Win rate: 0.500 | time: 7.77 minutes\n",
    "Epoch: 045/14999 | Loss: 0.0741 | Episodes: 118 | Win count: 19 | Win rate: 0.531 | time: 7.99 minutes\n",
    "Epoch: 046/14999 | Loss: 0.0225 | Episodes: 29 | Win count: 20 | Win rate: 0.562 | time: 8.04 minutes\n",
    "Epoch: 047/14999 | Loss: 0.1435 | Episodes: 144 | Win count: 20 | Win rate: 0.531 | time: 8.28 minutes\n",
    "Epoch: 048/14999 | Loss: 0.0738 | Episodes: 72 | Win count: 21 | Win rate: 0.562 | time: 8.42 minutes\n",
    "Epoch: 049/14999 | Loss: 0.1942 | Episodes: 138 | Win count: 22 | Win rate: 0.562 | time: 8.65 minutes\n",
    "Epoch: 050/14999 | Loss: 0.1834 | Episodes: 137 | Win count: 22 | Win rate: 0.531 | time: 8.89 minutes\n",
    "```\n",
    "\n",
    "### Notes:\n",
    "- The model achieved the desired behavior within a reasonable time frame.\n",
    "- Further enhancements (such as dynamic ε decay or reward shaping) may be added in the final submission.\n"
   ]
  },
  {
   "cell_type": "code",
   "execution_count": null,
   "metadata": {},
   "outputs": [],
   "source": []
  }
 ],
 "metadata": {
  "kernelspec": {
   "display_name": "Python 3",
   "language": "python",
   "name": "python3"
  },
  "language_info": {
   "codemirror_mode": {
    "name": "ipython",
    "version": 3
   },
   "file_extension": ".py",
   "mimetype": "text/x-python",
   "name": "python",
   "nbconvert_exporter": "python",
   "pygments_lexer": "ipython3",
   "version": "3.7.4"
  }
 },
 "nbformat": 4,
 "nbformat_minor": 2
}
